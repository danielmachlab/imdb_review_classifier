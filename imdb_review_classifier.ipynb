{
  "nbformat": 4,
  "nbformat_minor": 0,
  "metadata": {
    "colab": {
      "name": "imdb_review_classifier",
      "provenance": [],
      "collapsed_sections": [],
      "include_colab_link": true
    },
    "kernelspec": {
      "name": "python3",
      "display_name": "Python 3"
    }
  },
  "cells": [
    {
      "cell_type": "markdown",
      "metadata": {
        "id": "view-in-github",
        "colab_type": "text"
      },
      "source": [
        "<a href=\"https://colab.research.google.com/github/danielmachlab/imdb_review_classifier/blob/development/imdb_review_classifier.ipynb\" target=\"_parent\"><img src=\"https://colab.research.google.com/assets/colab-badge.svg\" alt=\"Open In Colab\"/></a>"
      ]
    },
    {
      "cell_type": "markdown",
      "metadata": {
        "id": "HZ42Rd9r_-n8",
        "colab_type": "text"
      },
      "source": [
        "# IMDB Review Classifier"
      ]
    },
    {
      "cell_type": "markdown",
      "metadata": {
        "id": "eopC0l0CBL5p",
        "colab_type": "text"
      },
      "source": [
        "### Dev Steps\n",
        "1. Import Dataset from keras/tf\n",
        "2. View Sentences\n",
        "3. Translate encoded reviews \n",
        "4. Create Model\n",
        "5. Train Model\n",
        "6. Test Model\n",
        "7. Tweak Hyper Parameters\n"
      ]
    },
    {
      "cell_type": "code",
      "metadata": {
        "id": "rC7fQ9Ll-a8W",
        "colab_type": "code",
        "colab": {}
      },
      "source": [
        "%tensorflow_version 1.x\n",
        "import tensorflow as tf\n",
        "from tensorflow import keras\n",
        "from keras.datasets import imdb"
      ],
      "execution_count": 0,
      "outputs": []
    },
    {
      "cell_type": "markdown",
      "metadata": {
        "id": "61JROyOYSq1y",
        "colab_type": "text"
      },
      "source": [
        "### View Data"
      ]
    },
    {
      "cell_type": "code",
      "metadata": {
        "id": "0YrlcNJeEECb",
        "colab_type": "code",
        "colab": {}
      },
      "source": [
        "(x_train, y_train), (x_test, y_test) = imdb.load_data(num_words=10000)"
      ],
      "execution_count": 0,
      "outputs": []
    },
    {
      "cell_type": "code",
      "metadata": {
        "id": "bMTn4KALFM6Z",
        "colab_type": "code",
        "colab": {
          "base_uri": "https://localhost:8080/",
          "height": 197
        },
        "outputId": "97e6247f-aa05-4f6c-c5b6-5a93be6d2aa6"
      },
      "source": [
        "word_index = imdb.get_word_index()\n",
        "# shift all numbers by three to make room for placeholders\n",
        "word_index = {k: (v+3) for k, v in word_index.items()} \n",
        "\n",
        "# add placeholders to the word_index dictionary\n",
        "word_index.update({\"<PAD>\": 0, \"<START>\": 1, \"<UNK>\": 2, \"<UNUSED>\": 3})\n",
        "list(word_index.items())[-10:]"
      ],
      "execution_count": 69,
      "outputs": [
        {
          "output_type": "execute_result",
          "data": {
            "text/plain": [
              "[('hardboiled', 52008),\n",
              " (\"voorhees'\", 88586),\n",
              " ('35mm', 16818),\n",
              " (\"'l'\", 88587),\n",
              " ('paget', 18512),\n",
              " ('expands', 20600),\n",
              " ('<PAD>', 0),\n",
              " ('<START>', 1),\n",
              " ('<UNK>', 2),\n",
              " ('<UNUSED>', 3)]"
            ]
          },
          "metadata": {
            "tags": []
          },
          "execution_count": 69
        }
      ]
    },
    {
      "cell_type": "code",
      "metadata": {
        "id": "j2jZi7IlF_Nj",
        "colab_type": "code",
        "colab": {
          "base_uri": "https://localhost:8080/",
          "height": 73
        },
        "outputId": "63cfa5fe-59ee-4db2-e809-a8f72d504962"
      },
      "source": [
        "# view the first review\n",
        "print('sentence', x_train[0])\n",
        "print('label', y_train[1])"
      ],
      "execution_count": 70,
      "outputs": [
        {
          "output_type": "stream",
          "text": [
            "sentence [1, 14, 22, 16, 43, 530, 973, 1622, 1385, 65, 458, 4468, 66, 3941, 4, 173, 36, 256, 5, 25, 100, 43, 838, 112, 50, 670, 2, 9, 35, 480, 284, 5, 150, 4, 172, 112, 167, 2, 336, 385, 39, 4, 172, 4536, 1111, 17, 546, 38, 13, 447, 4, 192, 50, 16, 6, 147, 2025, 19, 14, 22, 4, 1920, 4613, 469, 4, 22, 71, 87, 12, 16, 43, 530, 38, 76, 15, 13, 1247, 4, 22, 17, 515, 17, 12, 16, 626, 18, 2, 5, 62, 386, 12, 8, 316, 8, 106, 5, 4, 2223, 5244, 16, 480, 66, 3785, 33, 4, 130, 12, 16, 38, 619, 5, 25, 124, 51, 36, 135, 48, 25, 1415, 33, 6, 22, 12, 215, 28, 77, 52, 5, 14, 407, 16, 82, 2, 8, 4, 107, 117, 5952, 15, 256, 4, 2, 7, 3766, 5, 723, 36, 71, 43, 530, 476, 26, 400, 317, 46, 7, 4, 2, 1029, 13, 104, 88, 4, 381, 15, 297, 98, 32, 2071, 56, 26, 141, 6, 194, 7486, 18, 4, 226, 22, 21, 134, 476, 26, 480, 5, 144, 30, 5535, 18, 51, 36, 28, 224, 92, 25, 104, 4, 226, 65, 16, 38, 1334, 88, 12, 16, 283, 5, 16, 4472, 113, 103, 32, 15, 16, 5345, 19, 178, 32]\n",
            "label 0\n"
          ],
          "name": "stdout"
        }
      ]
    },
    {
      "cell_type": "markdown",
      "metadata": {
        "id": "U_E4Po7yUWWG",
        "colab_type": "text"
      },
      "source": [
        "### Translate Encoded Reviews"
      ]
    },
    {
      "cell_type": "code",
      "metadata": {
        "id": "HNhc4HfmUZeL",
        "colab_type": "code",
        "colab": {}
      },
      "source": [
        "flipped_word_index = dict([ (v,k) for (k, v) in word_index.items() ])"
      ],
      "execution_count": 0,
      "outputs": []
    },
    {
      "cell_type": "code",
      "metadata": {
        "id": "lYn7HrWuUolM",
        "colab_type": "code",
        "colab": {}
      },
      "source": [
        "def translate_review(review):\n",
        "  return \" \".join( [flipped_word_index.get(word, '?') for word in review] )"
      ],
      "execution_count": 0,
      "outputs": []
    },
    {
      "cell_type": "code",
      "metadata": {
        "id": "xcAIohcsV2bZ",
        "colab_type": "code",
        "colab": {
          "base_uri": "https://localhost:8080/",
          "height": 55
        },
        "outputId": "8b1f50c0-a7f5-4f33-eef6-5d5c071a3987"
      },
      "source": [
        "translate_review(x_train[0])"
      ],
      "execution_count": 73,
      "outputs": [
        {
          "output_type": "execute_result",
          "data": {
            "text/plain": [
              "\"<START> this film was just brilliant casting location scenery story direction everyone's really suited the part they played and you could just imagine being there robert <UNK> is an amazing actor and now the same being director <UNK> father came from the same scottish island as myself so i loved the fact there was a real connection with this film the witty remarks throughout the film were great it was just brilliant so much that i bought the film as soon as it was released for <UNK> and would recommend it to everyone to watch and the fly fishing was amazing really cried at the end it was so sad and you know what they say if you cry at a film it must have been good and this definitely was also <UNK> to the two little boy's that played the <UNK> of norman and paul they were just brilliant children are often left out of the <UNK> list i think because the stars that play them all grown up are such a big profile for the whole film but these children are amazing and should be praised for what they have done don't you think the whole story was so lovely because it was true and was someone's life after all that was shared with us all\""
            ]
          },
          "metadata": {
            "tags": []
          },
          "execution_count": 73
        }
      ]
    }
  ]
}