{
  "nbformat": 4,
  "nbformat_minor": 0,
  "metadata": {
    "colab": {
      "name": "imdb_review_classifier",
      "provenance": [],
      "collapsed_sections": [],
      "include_colab_link": true
    },
    "kernelspec": {
      "name": "python3",
      "display_name": "Python 3"
    }
  },
  "cells": [
    {
      "cell_type": "markdown",
      "metadata": {
        "id": "view-in-github",
        "colab_type": "text"
      },
      "source": [
        "<a href=\"https://colab.research.google.com/github/danielmachlab/imdb_review_classifier/blob/development/imdb_review_classifier.ipynb\" target=\"_parent\"><img src=\"https://colab.research.google.com/assets/colab-badge.svg\" alt=\"Open In Colab\"/></a>"
      ]
    },
    {
      "cell_type": "markdown",
      "metadata": {
        "id": "HZ42Rd9r_-n8",
        "colab_type": "text"
      },
      "source": [
        "# IMDB Review Classifier"
      ]
    },
    {
      "cell_type": "markdown",
      "metadata": {
        "id": "eopC0l0CBL5p",
        "colab_type": "text"
      },
      "source": [
        "### Dev Steps\n",
        "1. Import Dataset from keras/tf\n",
        "2. View Sentences\n",
        "3. Translate encoded reviews \n",
        "4. Create Model\n",
        "5. Train Model\n",
        "6. Test Model\n",
        "7. Tweak Hyper Parameters\n"
      ]
    },
    {
      "cell_type": "code",
      "metadata": {
        "id": "rC7fQ9Ll-a8W",
        "colab_type": "code",
        "colab": {}
      },
      "source": [
        "%tensorflow_version 1.x\n",
        "import tensorflow as tf\n",
        "from tensorflow import keras\n",
        "from keras.datasets import imdb"
      ],
      "execution_count": 0,
      "outputs": []
    },
    {
      "cell_type": "markdown",
      "metadata": {
        "id": "61JROyOYSq1y",
        "colab_type": "text"
      },
      "source": [
        "### View Data"
      ]
    },
    {
      "cell_type": "code",
      "metadata": {
        "id": "0YrlcNJeEECb",
        "colab_type": "code",
        "colab": {}
      },
      "source": [
        "(x_train, y_train), (x_test, y_test) = imdb.load_data(num_words=10000)"
      ],
      "execution_count": 0,
      "outputs": []
    },
    {
      "cell_type": "code",
      "metadata": {
        "id": "bMTn4KALFM6Z",
        "colab_type": "code",
        "outputId": "cda3c359-36e5-4127-b2af-3f734ca310ae",
        "colab": {
          "base_uri": "https://localhost:8080/",
          "height": 221
        }
      },
      "source": [
        "word_index = imdb.get_word_index()\n",
        "# shift all numbers by three to make room for placeholders\n",
        "word_index = {k: (v+3) for k, v in word_index.items()} \n",
        "\n",
        "# add placeholders to the word_index dictionary\n",
        "word_index.update({\"<PAD>\": 0, \"<START>\": 1, \"<UNK>\": 2, \"<UNUSED>\": 3})\n",
        "list(word_index.items())[-10:]"
      ],
      "execution_count": 6,
      "outputs": [
        {
          "output_type": "stream",
          "text": [
            "Downloading data from https://s3.amazonaws.com/text-datasets/imdb_word_index.json\n",
            "1646592/1641221 [==============================] - 0s 0us/step\n"
          ],
          "name": "stdout"
        },
        {
          "output_type": "execute_result",
          "data": {
            "text/plain": [
              "[('hardboiled', 52008),\n",
              " (\"voorhees'\", 88586),\n",
              " ('35mm', 16818),\n",
              " (\"'l'\", 88587),\n",
              " ('paget', 18512),\n",
              " ('expands', 20600),\n",
              " ('<PAD>', 0),\n",
              " ('<START>', 1),\n",
              " ('<UNK>', 2),\n",
              " ('<UNUSED>', 3)]"
            ]
          },
          "metadata": {
            "tags": []
          },
          "execution_count": 6
        }
      ]
    },
    {
      "cell_type": "code",
      "metadata": {
        "id": "j2jZi7IlF_Nj",
        "colab_type": "code",
        "outputId": "2cd5608d-fbaf-4502-8f71-15b5493e888a",
        "colab": {
          "base_uri": "https://localhost:8080/",
          "height": 71
        }
      },
      "source": [
        "# view the first review\n",
        "print('sentence', x_train[0])\n",
        "print('label', y_train[1])"
      ],
      "execution_count": 7,
      "outputs": [
        {
          "output_type": "stream",
          "text": [
            "sentence [1, 14, 22, 16, 43, 530, 973, 1622, 1385, 65, 458, 4468, 66, 3941, 4, 173, 36, 256, 5, 25, 100, 43, 838, 112, 50, 670, 2, 9, 35, 480, 284, 5, 150, 4, 172, 112, 167, 2, 336, 385, 39, 4, 172, 4536, 1111, 17, 546, 38, 13, 447, 4, 192, 50, 16, 6, 147, 2025, 19, 14, 22, 4, 1920, 4613, 469, 4, 22, 71, 87, 12, 16, 43, 530, 38, 76, 15, 13, 1247, 4, 22, 17, 515, 17, 12, 16, 626, 18, 2, 5, 62, 386, 12, 8, 316, 8, 106, 5, 4, 2223, 5244, 16, 480, 66, 3785, 33, 4, 130, 12, 16, 38, 619, 5, 25, 124, 51, 36, 135, 48, 25, 1415, 33, 6, 22, 12, 215, 28, 77, 52, 5, 14, 407, 16, 82, 2, 8, 4, 107, 117, 5952, 15, 256, 4, 2, 7, 3766, 5, 723, 36, 71, 43, 530, 476, 26, 400, 317, 46, 7, 4, 2, 1029, 13, 104, 88, 4, 381, 15, 297, 98, 32, 2071, 56, 26, 141, 6, 194, 7486, 18, 4, 226, 22, 21, 134, 476, 26, 480, 5, 144, 30, 5535, 18, 51, 36, 28, 224, 92, 25, 104, 4, 226, 65, 16, 38, 1334, 88, 12, 16, 283, 5, 16, 4472, 113, 103, 32, 15, 16, 5345, 19, 178, 32]\n",
            "label 0\n"
          ],
          "name": "stdout"
        }
      ]
    },
    {
      "cell_type": "markdown",
      "metadata": {
        "id": "U_E4Po7yUWWG",
        "colab_type": "text"
      },
      "source": [
        "### Translate Encoded Reviews"
      ]
    },
    {
      "cell_type": "code",
      "metadata": {
        "id": "HNhc4HfmUZeL",
        "colab_type": "code",
        "colab": {}
      },
      "source": [
        "flipped_word_index = dict([ (v,k) for (k, v) in word_index.items() ])"
      ],
      "execution_count": 0,
      "outputs": []
    },
    {
      "cell_type": "code",
      "metadata": {
        "id": "lYn7HrWuUolM",
        "colab_type": "code",
        "colab": {}
      },
      "source": [
        "def translate_review(review):\n",
        "  return \" \".join( [flipped_word_index.get(word, '?') for word in review] )"
      ],
      "execution_count": 0,
      "outputs": []
    },
    {
      "cell_type": "code",
      "metadata": {
        "id": "xcAIohcsV2bZ",
        "colab_type": "code",
        "outputId": "34bacbda-a379-46e4-a73a-26cf3921feff",
        "colab": {
          "base_uri": "https://localhost:8080/",
          "height": 54
        }
      },
      "source": [
        "translate_review(x_train[0])"
      ],
      "execution_count": 10,
      "outputs": [
        {
          "output_type": "execute_result",
          "data": {
            "text/plain": [
              "\"<START> this film was just brilliant casting location scenery story direction everyone's really suited the part they played and you could just imagine being there robert <UNK> is an amazing actor and now the same being director <UNK> father came from the same scottish island as myself so i loved the fact there was a real connection with this film the witty remarks throughout the film were great it was just brilliant so much that i bought the film as soon as it was released for <UNK> and would recommend it to everyone to watch and the fly fishing was amazing really cried at the end it was so sad and you know what they say if you cry at a film it must have been good and this definitely was also <UNK> to the two little boy's that played the <UNK> of norman and paul they were just brilliant children are often left out of the <UNK> list i think because the stars that play them all grown up are such a big profile for the whole film but these children are amazing and should be praised for what they have done don't you think the whole story was so lovely because it was true and was someone's life after all that was shared with us all\""
            ]
          },
          "metadata": {
            "tags": []
          },
          "execution_count": 10
        }
      ]
    },
    {
      "cell_type": "code",
      "metadata": {
        "id": "UrEdX5pkFUrw",
        "colab_type": "code",
        "colab": {}
      },
      "source": [
        "x_train = keras.preprocessing.sequence.pad_sequences(x_train, value=word_index[\"<PAD>\"], padding=\"post\", maxlen=250)\n",
        "x_test = keras.preprocessing.sequence.pad_sequences(x_test, value=word_index[\"<PAD>\"], padding=\"post\", maxlen=250)"
      ],
      "execution_count": 0,
      "outputs": []
    },
    {
      "cell_type": "code",
      "metadata": {
        "id": "X95xcRCFDxlm",
        "colab_type": "code",
        "colab": {
          "base_uri": "https://localhost:8080/",
          "height": 462
        },
        "outputId": "25f10899-b566-4aa3-c4db-db63d1df8586"
      },
      "source": [
        "model = keras.Sequential()\n",
        "model.add(keras.layers.Embedding(10000, 16))\n",
        "model.add(keras.layers.GlobalAveragePooling1D())\n",
        "model.add(keras.layers.Dense(16, activation=\"relu\"))\n",
        "model.add(keras.layers.Dense(1, activation=\"sigmoid\"))\n",
        "\n",
        "model.summary()"
      ],
      "execution_count": 11,
      "outputs": [
        {
          "output_type": "stream",
          "text": [
            "WARNING:tensorflow:From /tensorflow-1.15.2/python3.6/tensorflow_core/python/keras/initializers.py:119: calling RandomUniform.__init__ (from tensorflow.python.ops.init_ops) with dtype is deprecated and will be removed in a future version.\n",
            "Instructions for updating:\n",
            "Call initializer instance with the dtype argument instead of passing it to the constructor\n",
            "WARNING:tensorflow:From /tensorflow-1.15.2/python3.6/tensorflow_core/python/ops/resource_variable_ops.py:1630: calling BaseResourceVariable.__init__ (from tensorflow.python.ops.resource_variable_ops) with constraint is deprecated and will be removed in a future version.\n",
            "Instructions for updating:\n",
            "If using Keras pass *_constraint arguments to layers.\n",
            "Model: \"sequential\"\n",
            "_________________________________________________________________\n",
            "Layer (type)                 Output Shape              Param #   \n",
            "=================================================================\n",
            "embedding (Embedding)        (None, None, 16)          160000    \n",
            "_________________________________________________________________\n",
            "global_average_pooling1d (Gl (None, 16)                0         \n",
            "_________________________________________________________________\n",
            "dense (Dense)                (None, 16)                272       \n",
            "_________________________________________________________________\n",
            "dense_1 (Dense)              (None, 1)                 17        \n",
            "=================================================================\n",
            "Total params: 160,289\n",
            "Trainable params: 160,289\n",
            "Non-trainable params: 0\n",
            "_________________________________________________________________\n",
            "WARNING:tensorflow:From /tensorflow-1.15.2/python3.6/tensorflow_core/python/ops/nn_impl.py:183: where (from tensorflow.python.ops.array_ops) is deprecated and will be removed in a future version.\n",
            "Instructions for updating:\n",
            "Use tf.where in 2.0, which has the same broadcast rule as np.where\n"
          ],
          "name": "stdout"
        }
      ]
    },
    {
      "cell_type": "code",
      "metadata": {
        "id": "E8lUKT7mHfuI",
        "colab_type": "code",
        "colab": {
          "base_uri": "https://localhost:8080/",
          "height": 1000
        },
        "outputId": "a4d85af1-8b9e-428c-dff2-23232c963fd0"
      },
      "source": [
        "model.compile(optimizer='adam', loss='binary_crossentropy', metrics=['accuracy'])\n",
        "model.fit(x_train, y_train, epochs=40, batch_size=512, validation_split=0.3)"
      ],
      "execution_count": 14,
      "outputs": [
        {
          "output_type": "stream",
          "text": [
            "Train on 17500 samples, validate on 7500 samples\n",
            "Epoch 1/40\n",
            "17500/17500 [==============================] - 1s 66us/sample - loss: 0.6920 - acc: 0.5377 - val_loss: 0.6895 - val_acc: 0.6972\n",
            "Epoch 2/40\n",
            "17500/17500 [==============================] - 1s 43us/sample - loss: 0.6850 - acc: 0.7179 - val_loss: 0.6789 - val_acc: 0.7131\n",
            "Epoch 3/40\n",
            "17500/17500 [==============================] - 1s 43us/sample - loss: 0.6676 - acc: 0.7508 - val_loss: 0.6536 - val_acc: 0.7563\n",
            "Epoch 4/40\n",
            "17500/17500 [==============================] - 1s 43us/sample - loss: 0.6344 - acc: 0.7813 - val_loss: 0.6142 - val_acc: 0.7796\n",
            "Epoch 5/40\n",
            "17500/17500 [==============================] - 1s 45us/sample - loss: 0.5869 - acc: 0.8083 - val_loss: 0.5638 - val_acc: 0.8001\n",
            "Epoch 6/40\n",
            "17500/17500 [==============================] - 1s 44us/sample - loss: 0.5308 - acc: 0.8341 - val_loss: 0.5112 - val_acc: 0.8176\n",
            "Epoch 7/40\n",
            "17500/17500 [==============================] - 1s 43us/sample - loss: 0.4737 - acc: 0.8508 - val_loss: 0.4618 - val_acc: 0.8401\n",
            "Epoch 8/40\n",
            "17500/17500 [==============================] - 1s 44us/sample - loss: 0.4224 - acc: 0.8661 - val_loss: 0.4204 - val_acc: 0.8515\n",
            "Epoch 9/40\n",
            "17500/17500 [==============================] - 1s 44us/sample - loss: 0.3796 - acc: 0.8781 - val_loss: 0.3895 - val_acc: 0.8565\n",
            "Epoch 10/40\n",
            "17500/17500 [==============================] - 1s 43us/sample - loss: 0.3457 - acc: 0.8865 - val_loss: 0.3676 - val_acc: 0.8597\n",
            "Epoch 11/40\n",
            "17500/17500 [==============================] - 1s 44us/sample - loss: 0.3169 - acc: 0.8950 - val_loss: 0.3457 - val_acc: 0.8669\n",
            "Epoch 12/40\n",
            "17500/17500 [==============================] - 1s 43us/sample - loss: 0.2931 - acc: 0.9017 - val_loss: 0.3306 - val_acc: 0.8704\n",
            "Epoch 13/40\n",
            "17500/17500 [==============================] - 1s 44us/sample - loss: 0.2729 - acc: 0.9073 - val_loss: 0.3187 - val_acc: 0.8759\n",
            "Epoch 14/40\n",
            "17500/17500 [==============================] - 1s 44us/sample - loss: 0.2561 - acc: 0.9127 - val_loss: 0.3094 - val_acc: 0.8791\n",
            "Epoch 15/40\n",
            "17500/17500 [==============================] - 1s 43us/sample - loss: 0.2413 - acc: 0.9167 - val_loss: 0.3022 - val_acc: 0.8823\n",
            "Epoch 16/40\n",
            "17500/17500 [==============================] - 1s 43us/sample - loss: 0.2280 - acc: 0.9229 - val_loss: 0.2970 - val_acc: 0.8832\n",
            "Epoch 17/40\n",
            "17500/17500 [==============================] - 1s 44us/sample - loss: 0.2160 - acc: 0.9257 - val_loss: 0.2926 - val_acc: 0.8843\n",
            "Epoch 18/40\n",
            "17500/17500 [==============================] - 1s 45us/sample - loss: 0.2053 - acc: 0.9299 - val_loss: 0.2892 - val_acc: 0.8853\n",
            "Epoch 19/40\n",
            "17500/17500 [==============================] - 1s 43us/sample - loss: 0.1957 - acc: 0.9328 - val_loss: 0.2868 - val_acc: 0.8869\n",
            "Epoch 20/40\n",
            "17500/17500 [==============================] - 1s 43us/sample - loss: 0.1862 - acc: 0.9371 - val_loss: 0.2851 - val_acc: 0.8872\n",
            "Epoch 21/40\n",
            "17500/17500 [==============================] - 1s 43us/sample - loss: 0.1780 - acc: 0.9411 - val_loss: 0.2839 - val_acc: 0.8876\n",
            "Epoch 22/40\n",
            "17500/17500 [==============================] - 1s 43us/sample - loss: 0.1707 - acc: 0.9426 - val_loss: 0.2834 - val_acc: 0.8868\n",
            "Epoch 23/40\n",
            "17500/17500 [==============================] - 1s 44us/sample - loss: 0.1640 - acc: 0.9453 - val_loss: 0.2821 - val_acc: 0.8891\n",
            "Epoch 24/40\n",
            "17500/17500 [==============================] - 1s 42us/sample - loss: 0.1562 - acc: 0.9491 - val_loss: 0.2831 - val_acc: 0.8880\n",
            "Epoch 25/40\n",
            "17500/17500 [==============================] - 1s 44us/sample - loss: 0.1498 - acc: 0.9513 - val_loss: 0.2844 - val_acc: 0.8892\n",
            "Epoch 26/40\n",
            "17500/17500 [==============================] - 1s 43us/sample - loss: 0.1437 - acc: 0.9537 - val_loss: 0.2852 - val_acc: 0.8863\n",
            "Epoch 27/40\n",
            "17500/17500 [==============================] - 1s 43us/sample - loss: 0.1383 - acc: 0.9554 - val_loss: 0.2885 - val_acc: 0.8863\n",
            "Epoch 28/40\n",
            "17500/17500 [==============================] - 1s 43us/sample - loss: 0.1326 - acc: 0.9581 - val_loss: 0.2885 - val_acc: 0.8867\n",
            "Epoch 29/40\n",
            "17500/17500 [==============================] - 1s 43us/sample - loss: 0.1283 - acc: 0.9587 - val_loss: 0.2893 - val_acc: 0.8879\n",
            "Epoch 30/40\n",
            "17500/17500 [==============================] - 1s 43us/sample - loss: 0.1223 - acc: 0.9624 - val_loss: 0.2913 - val_acc: 0.8868\n",
            "Epoch 31/40\n",
            "17500/17500 [==============================] - 1s 44us/sample - loss: 0.1176 - acc: 0.9643 - val_loss: 0.2936 - val_acc: 0.8872\n",
            "Epoch 32/40\n",
            "17500/17500 [==============================] - 1s 45us/sample - loss: 0.1135 - acc: 0.9659 - val_loss: 0.2963 - val_acc: 0.8873\n",
            "Epoch 33/40\n",
            "17500/17500 [==============================] - 1s 44us/sample - loss: 0.1100 - acc: 0.9675 - val_loss: 0.2990 - val_acc: 0.8875\n",
            "Epoch 34/40\n",
            "17500/17500 [==============================] - 1s 43us/sample - loss: 0.1044 - acc: 0.9698 - val_loss: 0.3028 - val_acc: 0.8848\n",
            "Epoch 35/40\n",
            "17500/17500 [==============================] - 1s 44us/sample - loss: 0.1006 - acc: 0.9715 - val_loss: 0.3056 - val_acc: 0.8861\n",
            "Epoch 36/40\n",
            "17500/17500 [==============================] - 1s 43us/sample - loss: 0.0968 - acc: 0.9730 - val_loss: 0.3107 - val_acc: 0.8837\n",
            "Epoch 37/40\n",
            "17500/17500 [==============================] - 1s 44us/sample - loss: 0.0933 - acc: 0.9737 - val_loss: 0.3124 - val_acc: 0.8852\n",
            "Epoch 38/40\n",
            "17500/17500 [==============================] - 1s 44us/sample - loss: 0.0895 - acc: 0.9757 - val_loss: 0.3172 - val_acc: 0.8844\n",
            "Epoch 39/40\n",
            "17500/17500 [==============================] - 1s 44us/sample - loss: 0.0860 - acc: 0.9774 - val_loss: 0.3213 - val_acc: 0.8823\n",
            "Epoch 40/40\n",
            "17500/17500 [==============================] - 1s 43us/sample - loss: 0.0827 - acc: 0.9786 - val_loss: 0.3253 - val_acc: 0.8829\n"
          ],
          "name": "stdout"
        },
        {
          "output_type": "execute_result",
          "data": {
            "text/plain": [
              "<tensorflow.python.keras.callbacks.History at 0x7f8256beec50>"
            ]
          },
          "metadata": {
            "tags": []
          },
          "execution_count": 14
        }
      ]
    }
  ]
}