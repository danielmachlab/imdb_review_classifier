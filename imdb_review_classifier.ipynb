{
  "nbformat": 4,
  "nbformat_minor": 0,
  "metadata": {
    "colab": {
      "name": "imdb_review_classifier",
      "provenance": [],
      "collapsed_sections": [],
      "include_colab_link": true
    },
    "kernelspec": {
      "name": "python3",
      "display_name": "Python 3"
    }
  },
  "cells": [
    {
      "cell_type": "markdown",
      "metadata": {
        "id": "view-in-github",
        "colab_type": "text"
      },
      "source": [
        "<a href=\"https://colab.research.google.com/github/danielmachlab/imdb_review_classifier/blob/development/imdb_review_classifier.ipynb\" target=\"_parent\"><img src=\"https://colab.research.google.com/assets/colab-badge.svg\" alt=\"Open In Colab\"/></a>"
      ]
    },
    {
      "cell_type": "markdown",
      "metadata": {
        "id": "HZ42Rd9r_-n8",
        "colab_type": "text"
      },
      "source": [
        "# IMDB Review Classifier"
      ]
    },
    {
      "cell_type": "markdown",
      "metadata": {
        "id": "eopC0l0CBL5p",
        "colab_type": "text"
      },
      "source": [
        "### Dev Steps\n",
        "1. Import Dataset from keras/tf\n",
        "2. View Sentences\n",
        "3. Translate encoded reviews \n",
        "4. Create Model\n",
        "5. Train Model\n",
        "6. Test Model\n",
        "7. Tweak Hyper Parameters\n"
      ]
    },
    {
      "cell_type": "code",
      "metadata": {
        "id": "rC7fQ9Ll-a8W",
        "colab_type": "code",
        "colab": {
          "base_uri": "https://localhost:8080/",
          "height": 35
        },
        "outputId": "1d171390-e4cf-4b98-c294-e839bd2b9d3f"
      },
      "source": [
        "%tensorflow_version 1.x\n",
        "import tensorflow as tf\n",
        "from tensorflow import keras\n",
        "from keras.datasets import imdb"
      ],
      "execution_count": 58,
      "outputs": [
        {
          "output_type": "stream",
          "text": [
            "TensorFlow is already loaded. Please restart the runtime to change versions.\n"
          ],
          "name": "stdout"
        }
      ]
    },
    {
      "cell_type": "markdown",
      "metadata": {
        "id": "61JROyOYSq1y",
        "colab_type": "text"
      },
      "source": [
        "### View Data"
      ]
    },
    {
      "cell_type": "code",
      "metadata": {
        "id": "0YrlcNJeEECb",
        "colab_type": "code",
        "colab": {}
      },
      "source": [
        "num_words = 10000\n",
        "(x_train, y_train), (x_test, y_test) = imdb.load_data(num_words=num_words)"
      ],
      "execution_count": 0,
      "outputs": []
    },
    {
      "cell_type": "code",
      "metadata": {
        "id": "bMTn4KALFM6Z",
        "colab_type": "code",
        "outputId": "212a7cb9-3e87-4c44-b472-a3225d94cbd6",
        "colab": {
          "base_uri": "https://localhost:8080/",
          "height": 199
        }
      },
      "source": [
        "word_index = imdb.get_word_index()\n",
        "# shift all numbers by three to make room for placeholders\n",
        "word_index = {k: (v+3) for k, v in word_index.items()} \n",
        "\n",
        "# add placeholders to the word_index dictionary\n",
        "word_index.update({\"<PAD>\": 0, \"<START>\": 1, \"<UNK>\": 2, \"<UNUSED>\": 3})\n",
        "list(word_index.items())[-10:]"
      ],
      "execution_count": 60,
      "outputs": [
        {
          "output_type": "execute_result",
          "data": {
            "text/plain": [
              "[('hardboiled', 52008),\n",
              " (\"voorhees'\", 88586),\n",
              " ('35mm', 16818),\n",
              " (\"'l'\", 88587),\n",
              " ('paget', 18512),\n",
              " ('expands', 20600),\n",
              " ('<PAD>', 0),\n",
              " ('<START>', 1),\n",
              " ('<UNK>', 2),\n",
              " ('<UNUSED>', 3)]"
            ]
          },
          "metadata": {
            "tags": []
          },
          "execution_count": 60
        }
      ]
    },
    {
      "cell_type": "code",
      "metadata": {
        "id": "j2jZi7IlF_Nj",
        "colab_type": "code",
        "outputId": "d9ea06c3-97c5-4f52-c854-206f354e265e",
        "colab": {
          "base_uri": "https://localhost:8080/",
          "height": 74
        }
      },
      "source": [
        "# view the first review\n",
        "print('sentence', x_train[0])\n",
        "print('label', y_train[1])"
      ],
      "execution_count": 61,
      "outputs": [
        {
          "output_type": "stream",
          "text": [
            "sentence [1, 14, 22, 16, 43, 530, 973, 1622, 1385, 65, 458, 4468, 66, 3941, 4, 173, 36, 256, 5, 25, 100, 43, 838, 112, 50, 670, 2, 9, 35, 480, 284, 5, 150, 4, 172, 112, 167, 2, 336, 385, 39, 4, 172, 4536, 1111, 17, 546, 38, 13, 447, 4, 192, 50, 16, 6, 147, 2025, 19, 14, 22, 4, 1920, 4613, 469, 4, 22, 71, 87, 12, 16, 43, 530, 38, 76, 15, 13, 1247, 4, 22, 17, 515, 17, 12, 16, 626, 18, 2, 5, 62, 386, 12, 8, 316, 8, 106, 5, 4, 2223, 5244, 16, 480, 66, 3785, 33, 4, 130, 12, 16, 38, 619, 5, 25, 124, 51, 36, 135, 48, 25, 1415, 33, 6, 22, 12, 215, 28, 77, 52, 5, 14, 407, 16, 82, 2, 8, 4, 107, 117, 5952, 15, 256, 4, 2, 7, 3766, 5, 723, 36, 71, 43, 530, 476, 26, 400, 317, 46, 7, 4, 2, 1029, 13, 104, 88, 4, 381, 15, 297, 98, 32, 2071, 56, 26, 141, 6, 194, 7486, 18, 4, 226, 22, 21, 134, 476, 26, 480, 5, 144, 30, 5535, 18, 51, 36, 28, 224, 92, 25, 104, 4, 226, 65, 16, 38, 1334, 88, 12, 16, 283, 5, 16, 4472, 113, 103, 32, 15, 16, 5345, 19, 178, 32]\n",
            "label 0\n"
          ],
          "name": "stdout"
        }
      ]
    },
    {
      "cell_type": "markdown",
      "metadata": {
        "id": "U_E4Po7yUWWG",
        "colab_type": "text"
      },
      "source": [
        "### Translate Encoded Reviews"
      ]
    },
    {
      "cell_type": "code",
      "metadata": {
        "id": "HNhc4HfmUZeL",
        "colab_type": "code",
        "colab": {}
      },
      "source": [
        "flipped_word_index = dict([ (v,k) for (k, v) in word_index.items() ])"
      ],
      "execution_count": 0,
      "outputs": []
    },
    {
      "cell_type": "code",
      "metadata": {
        "id": "lYn7HrWuUolM",
        "colab_type": "code",
        "colab": {}
      },
      "source": [
        "def translate_review(review):\n",
        "  return \" \".join( [flipped_word_index.get(word, '?') for word in review] )"
      ],
      "execution_count": 0,
      "outputs": []
    },
    {
      "cell_type": "code",
      "metadata": {
        "id": "xcAIohcsV2bZ",
        "colab_type": "code",
        "outputId": "9ddffe60-50c4-4b2b-bc97-3f29ad86205f",
        "colab": {
          "base_uri": "https://localhost:8080/",
          "height": 55
        }
      },
      "source": [
        "translate_review(x_train[0])"
      ],
      "execution_count": 64,
      "outputs": [
        {
          "output_type": "execute_result",
          "data": {
            "text/plain": [
              "\"<START> this film was just brilliant casting location scenery story direction everyone's really suited the part they played and you could just imagine being there robert <UNK> is an amazing actor and now the same being director <UNK> father came from the same scottish island as myself so i loved the fact there was a real connection with this film the witty remarks throughout the film were great it was just brilliant so much that i bought the film as soon as it was released for <UNK> and would recommend it to everyone to watch and the fly fishing was amazing really cried at the end it was so sad and you know what they say if you cry at a film it must have been good and this definitely was also <UNK> to the two little boy's that played the <UNK> of norman and paul they were just brilliant children are often left out of the <UNK> list i think because the stars that play them all grown up are such a big profile for the whole film but these children are amazing and should be praised for what they have done don't you think the whole story was so lovely because it was true and was someone's life after all that was shared with us all\""
            ]
          },
          "metadata": {
            "tags": []
          },
          "execution_count": 64
        }
      ]
    },
    {
      "cell_type": "code",
      "metadata": {
        "id": "UrEdX5pkFUrw",
        "colab_type": "code",
        "colab": {}
      },
      "source": [
        "x_train = keras.preprocessing.sequence.pad_sequences(x_train, value=word_index[\"<PAD>\"], padding=\"post\", maxlen=250)\n",
        "x_test = keras.preprocessing.sequence.pad_sequences(x_test, value=word_index[\"<PAD>\"], padding=\"post\", maxlen=250)"
      ],
      "execution_count": 0,
      "outputs": []
    },
    {
      "cell_type": "markdown",
      "metadata": {
        "id": "CxMEhbGsExcF",
        "colab_type": "text"
      },
      "source": [
        "# Write Models"
      ]
    },
    {
      "cell_type": "markdown",
      "metadata": {
        "id": "ZzzGHYqsE_JS",
        "colab_type": "text"
      },
      "source": [
        "Word embedding (?)"
      ]
    },
    {
      "cell_type": "code",
      "metadata": {
        "id": "X95xcRCFDxlm",
        "colab_type": "code",
        "outputId": "accead2c-62e9-450b-93a0-fcbeff025f23",
        "colab": {
          "base_uri": "https://localhost:8080/",
          "height": 690
        }
      },
      "source": [
        "emb = keras.Sequential()\n",
        "emb.add(keras.layers.Embedding(10000, 16))\n",
        "emb.add(keras.layers.GlobalAveragePooling1D())\n",
        "emb.add(keras.layers.Dense(16, activation=\"relu\"))\n",
        "emb.add(keras.layers.Dense(1, activation=\"sigmoid\"))\n",
        "\n",
        "emb.summary()\n",
        "emb.compile(optimizer='adam', loss='binary_crossentropy', metrics=['accuracy'])\n",
        "emb.fit(x_train, y_train, epochs=10, batch_size=512, validation_split=0.3)"
      ],
      "execution_count": 66,
      "outputs": [
        {
          "output_type": "stream",
          "text": [
            "Model: \"sequential_16\"\n",
            "_________________________________________________________________\n",
            "Layer (type)                 Output Shape              Param #   \n",
            "=================================================================\n",
            "embedding_14 (Embedding)     (None, None, 16)          160000    \n",
            "_________________________________________________________________\n",
            "global_average_pooling1d_4 ( (None, 16)                0         \n",
            "_________________________________________________________________\n",
            "dense_18 (Dense)             (None, 16)                272       \n",
            "_________________________________________________________________\n",
            "dense_19 (Dense)             (None, 1)                 17        \n",
            "=================================================================\n",
            "Total params: 160,289\n",
            "Trainable params: 160,289\n",
            "Non-trainable params: 0\n",
            "_________________________________________________________________\n",
            "Epoch 1/10\n",
            "35/35 [==============================] - 1s 19ms/step - loss: 0.6921 - accuracy: 0.5573 - val_loss: 0.6896 - val_accuracy: 0.6291\n",
            "Epoch 2/10\n",
            "35/35 [==============================] - 1s 17ms/step - loss: 0.6857 - accuracy: 0.7162 - val_loss: 0.6793 - val_accuracy: 0.7397\n",
            "Epoch 3/10\n",
            "35/35 [==============================] - 1s 19ms/step - loss: 0.6703 - accuracy: 0.7519 - val_loss: 0.6586 - val_accuracy: 0.7553\n",
            "Epoch 4/10\n",
            "35/35 [==============================] - 1s 17ms/step - loss: 0.6428 - accuracy: 0.7795 - val_loss: 0.6253 - val_accuracy: 0.7761\n",
            "Epoch 5/10\n",
            "35/35 [==============================] - 1s 17ms/step - loss: 0.6024 - accuracy: 0.8070 - val_loss: 0.5826 - val_accuracy: 0.7892\n",
            "Epoch 6/10\n",
            "35/35 [==============================] - 1s 17ms/step - loss: 0.5527 - accuracy: 0.8232 - val_loss: 0.5330 - val_accuracy: 0.8137\n",
            "Epoch 7/10\n",
            "35/35 [==============================] - 1s 17ms/step - loss: 0.4991 - accuracy: 0.8434 - val_loss: 0.4849 - val_accuracy: 0.8304\n",
            "Epoch 8/10\n",
            "35/35 [==============================] - 1s 18ms/step - loss: 0.4479 - accuracy: 0.8610 - val_loss: 0.4441 - val_accuracy: 0.8368\n",
            "Epoch 9/10\n",
            "35/35 [==============================] - 1s 17ms/step - loss: 0.4038 - accuracy: 0.8714 - val_loss: 0.4082 - val_accuracy: 0.8540\n",
            "Epoch 10/10\n",
            "35/35 [==============================] - 1s 17ms/step - loss: 0.3666 - accuracy: 0.8829 - val_loss: 0.3814 - val_accuracy: 0.8579\n"
          ],
          "name": "stdout"
        },
        {
          "output_type": "execute_result",
          "data": {
            "text/plain": [
              "<tensorflow.python.keras.callbacks.History at 0x7f00dea68f98>"
            ]
          },
          "metadata": {
            "tags": []
          },
          "execution_count": 66
        }
      ]
    },
    {
      "cell_type": "markdown",
      "metadata": {
        "id": "EjOr_3pMFDHT",
        "colab_type": "text"
      },
      "source": [
        "LSTM"
      ]
    },
    {
      "cell_type": "code",
      "metadata": {
        "id": "2PXL38FDFFQ_",
        "colab_type": "code",
        "colab": {
          "base_uri": "https://localhost:8080/",
          "height": 399
        },
        "outputId": "c5acb2b9-3e00-4ae5-c22a-aff4b2bd3dce"
      },
      "source": [
        "lstm = keras.Sequential()\n",
        "lstm.add(keras.layers.Embedding(num_words, 32))\n",
        "lstm.add(keras.layers.LSTM(32))\n",
        "lstm.add(keras.layers.Dense(1, activation='sigmoid'))\n",
        "lstm.compile(optimizer='rmsprop',loss='binary_crossentropy', metrics=['acc'])\n",
        "lstm.fit(x_train, y_train, epochs=10, batch_size=128, validation_split=0.2)\n"
      ],
      "execution_count": 67,
      "outputs": [
        {
          "output_type": "stream",
          "text": [
            "Epoch 1/10\n",
            "157/157 [==============================] - 27s 169ms/step - loss: 0.6735 - acc: 0.5842 - val_loss: 0.6080 - val_acc: 0.7050\n",
            "Epoch 2/10\n",
            "157/157 [==============================] - 28s 179ms/step - loss: 0.5826 - acc: 0.7310 - val_loss: 0.4961 - val_acc: 0.8048\n",
            "Epoch 3/10\n",
            "157/157 [==============================] - 28s 179ms/step - loss: 0.4536 - acc: 0.8263 - val_loss: 0.4275 - val_acc: 0.8356\n",
            "Epoch 4/10\n",
            "157/157 [==============================] - 28s 179ms/step - loss: 0.3797 - acc: 0.8677 - val_loss: 0.7978 - val_acc: 0.6022\n",
            "Epoch 5/10\n",
            "157/157 [==============================] - 28s 177ms/step - loss: 0.3569 - acc: 0.8724 - val_loss: 0.7695 - val_acc: 0.7296\n",
            "Epoch 6/10\n",
            "157/157 [==============================] - 28s 177ms/step - loss: 0.3173 - acc: 0.8954 - val_loss: 0.5717 - val_acc: 0.7616\n",
            "Epoch 7/10\n",
            "157/157 [==============================] - 28s 181ms/step - loss: 0.2736 - acc: 0.9108 - val_loss: 0.5831 - val_acc: 0.8270\n",
            "Epoch 8/10\n",
            "157/157 [==============================] - 28s 181ms/step - loss: 0.2530 - acc: 0.9178 - val_loss: 0.3868 - val_acc: 0.8650\n",
            "Epoch 9/10\n",
            "157/157 [==============================] - 28s 178ms/step - loss: 0.2905 - acc: 0.9052 - val_loss: 0.3851 - val_acc: 0.8254\n",
            "Epoch 10/10\n",
            "157/157 [==============================] - 29s 184ms/step - loss: 0.2325 - acc: 0.9191 - val_loss: 0.3714 - val_acc: 0.8656\n"
          ],
          "name": "stdout"
        },
        {
          "output_type": "execute_result",
          "data": {
            "text/plain": [
              "<tensorflow.python.keras.callbacks.History at 0x7f00df145c88>"
            ]
          },
          "metadata": {
            "tags": []
          },
          "execution_count": 67
        }
      ]
    },
    {
      "cell_type": "markdown",
      "metadata": {
        "id": "qzmKPfWmFt4d",
        "colab_type": "text"
      },
      "source": [
        "GRU"
      ]
    },
    {
      "cell_type": "code",
      "metadata": {
        "id": "r1ga5XEZGKO_",
        "colab_type": "code",
        "colab": {
          "base_uri": "https://localhost:8080/",
          "height": 399
        },
        "outputId": "1f51b638-1185-4ae4-971c-61ad7aa04a55"
      },
      "source": [
        "gru = keras.Sequential()\n",
        "gru.add(keras.layers.Embedding(num_words, 32))\n",
        "gru.add(keras.layers.GRU(32))\n",
        "gru.add(keras.layers.Dense(1, activation='sigmoid'))\n",
        "gru.compile(optimizer='rmsprop',loss='binary_crossentropy', metrics=['acc'])\n",
        "gru.fit(x_train, y_train, epochs=10, batch_size=128, validation_split=0.2)"
      ],
      "execution_count": 68,
      "outputs": [
        {
          "output_type": "stream",
          "text": [
            "Epoch 1/10\n",
            "157/157 [==============================] - 26s 166ms/step - loss: 0.6931 - acc: 0.5235 - val_loss: 0.6713 - val_acc: 0.5688\n",
            "Epoch 2/10\n",
            "157/157 [==============================] - 26s 164ms/step - loss: 0.6412 - acc: 0.6348 - val_loss: 0.6003 - val_acc: 0.6466\n",
            "Epoch 3/10\n",
            "157/157 [==============================] - 26s 164ms/step - loss: 0.5587 - acc: 0.7249 - val_loss: 0.5405 - val_acc: 0.7160\n",
            "Epoch 4/10\n",
            "157/157 [==============================] - 27s 174ms/step - loss: 0.4487 - acc: 0.8256 - val_loss: 0.4974 - val_acc: 0.7864\n",
            "Epoch 5/10\n",
            "157/157 [==============================] - 29s 185ms/step - loss: 0.3940 - acc: 0.8577 - val_loss: 0.7389 - val_acc: 0.6182\n",
            "Epoch 6/10\n",
            "157/157 [==============================] - 29s 182ms/step - loss: 0.3619 - acc: 0.8726 - val_loss: 0.4554 - val_acc: 0.8310\n",
            "Epoch 7/10\n",
            "157/157 [==============================] - 28s 178ms/step - loss: 0.3508 - acc: 0.8788 - val_loss: 0.4254 - val_acc: 0.8416\n",
            "Epoch 8/10\n",
            "157/157 [==============================] - 29s 182ms/step - loss: 0.3500 - acc: 0.8812 - val_loss: 0.3905 - val_acc: 0.8570\n",
            "Epoch 9/10\n",
            "157/157 [==============================] - 29s 184ms/step - loss: 0.3161 - acc: 0.8950 - val_loss: 0.4204 - val_acc: 0.8412\n",
            "Epoch 10/10\n",
            "157/157 [==============================] - 29s 185ms/step - loss: 0.3114 - acc: 0.8996 - val_loss: 0.4098 - val_acc: 0.8470\n"
          ],
          "name": "stdout"
        },
        {
          "output_type": "execute_result",
          "data": {
            "text/plain": [
              "<tensorflow.python.keras.callbacks.History at 0x7f00dc867358>"
            ]
          },
          "metadata": {
            "tags": []
          },
          "execution_count": 68
        }
      ]
    },
    {
      "cell_type": "markdown",
      "metadata": {
        "id": "6jLdoZYMGOYm",
        "colab_type": "text"
      },
      "source": [
        "Simple RNN"
      ]
    },
    {
      "cell_type": "code",
      "metadata": {
        "id": "mF-BRx8kGQCb",
        "colab_type": "code",
        "colab": {
          "base_uri": "https://localhost:8080/",
          "height": 399
        },
        "outputId": "ce8f7627-be51-475e-85c1-cec5e92248a5"
      },
      "source": [
        "srnn = keras.Sequential()\n",
        "srnn.add(keras.layers.Embedding(num_words, 32))\n",
        "srnn.add(keras.layers.SimpleRNN(32))\n",
        "srnn.add(keras.layers.Dense(1, activation='sigmoid'))\n",
        "srnn.compile(optimizer='rmsprop',loss='binary_crossentropy', metrics=['acc'])\n",
        "srnn.fit(x_train, y_train, epochs=10, batch_size=128, validation_split=0.2)"
      ],
      "execution_count": 69,
      "outputs": [
        {
          "output_type": "stream",
          "text": [
            "Epoch 1/10\n",
            "157/157 [==============================] - 14s 87ms/step - loss: 0.6922 - acc: 0.5063 - val_loss: 0.6854 - val_acc: 0.5346\n",
            "Epoch 2/10\n",
            "157/157 [==============================] - 13s 84ms/step - loss: 0.6580 - acc: 0.5993 - val_loss: 0.6628 - val_acc: 0.5892\n",
            "Epoch 3/10\n",
            "157/157 [==============================] - 13s 85ms/step - loss: 0.5814 - acc: 0.6938 - val_loss: 0.6626 - val_acc: 0.6296\n",
            "Epoch 4/10\n",
            "157/157 [==============================] - 13s 84ms/step - loss: 0.5183 - acc: 0.7607 - val_loss: 0.8173 - val_acc: 0.5650\n",
            "Epoch 5/10\n",
            "157/157 [==============================] - 13s 85ms/step - loss: 0.5062 - acc: 0.7617 - val_loss: 0.5864 - val_acc: 0.7116\n",
            "Epoch 6/10\n",
            "157/157 [==============================] - 13s 85ms/step - loss: 0.4616 - acc: 0.7871 - val_loss: 0.6120 - val_acc: 0.7220\n",
            "Epoch 7/10\n",
            "157/157 [==============================] - 14s 86ms/step - loss: 0.4573 - acc: 0.7808 - val_loss: 0.6232 - val_acc: 0.7026\n",
            "Epoch 8/10\n",
            "157/157 [==============================] - 14s 87ms/step - loss: 0.4473 - acc: 0.7812 - val_loss: 0.7397 - val_acc: 0.5116\n",
            "Epoch 9/10\n",
            "157/157 [==============================] - 13s 85ms/step - loss: 0.4283 - acc: 0.7831 - val_loss: 0.5626 - val_acc: 0.7642\n",
            "Epoch 10/10\n",
            "157/157 [==============================] - 13s 84ms/step - loss: 0.3807 - acc: 0.8290 - val_loss: 0.5938 - val_acc: 0.7594\n"
          ],
          "name": "stdout"
        },
        {
          "output_type": "execute_result",
          "data": {
            "text/plain": [
              "<tensorflow.python.keras.callbacks.History at 0x7f00d09bd4a8>"
            ]
          },
          "metadata": {
            "tags": []
          },
          "execution_count": 69
        }
      ]
    },
    {
      "cell_type": "markdown",
      "metadata": {
        "id": "vuPhSTdAE6XT",
        "colab_type": "text"
      },
      "source": [
        "# Evaluate Models"
      ]
    },
    {
      "cell_type": "markdown",
      "metadata": {
        "id": "SzlSBMN5GT5h",
        "colab_type": "text"
      },
      "source": [
        "Word embedding (?)"
      ]
    },
    {
      "cell_type": "code",
      "metadata": {
        "id": "E8lUKT7mHfuI",
        "colab_type": "code",
        "outputId": "af52b5fd-7f23-486c-b5eb-22a5876fd4b4",
        "colab": {
          "base_uri": "https://localhost:8080/",
          "height": 54
        }
      },
      "source": [
        "emb.evaluate(x_test, y_test)"
      ],
      "execution_count": 70,
      "outputs": [
        {
          "output_type": "stream",
          "text": [
            "782/782 [==============================] - 1s 2ms/step - loss: 0.3905 - accuracy: 0.8533\n"
          ],
          "name": "stdout"
        },
        {
          "output_type": "execute_result",
          "data": {
            "text/plain": [
              "[0.3905027210712433, 0.8533200025558472]"
            ]
          },
          "metadata": {
            "tags": []
          },
          "execution_count": 70
        }
      ]
    },
    {
      "cell_type": "markdown",
      "metadata": {
        "id": "k_c7SD79GWPt",
        "colab_type": "text"
      },
      "source": [
        "LSTM"
      ]
    },
    {
      "cell_type": "code",
      "metadata": {
        "id": "VCQwF0ZeHewd",
        "colab_type": "code",
        "colab": {
          "base_uri": "https://localhost:8080/",
          "height": 54
        },
        "outputId": "d3671cd9-4653-494a-f222-c8d57da804bd"
      },
      "source": [
        "lstm.evaluate(x_test, y_test)"
      ],
      "execution_count": 71,
      "outputs": [
        {
          "output_type": "stream",
          "text": [
            "782/782 [==============================] - 20s 25ms/step - loss: 0.3780 - acc: 0.8567\n"
          ],
          "name": "stdout"
        },
        {
          "output_type": "execute_result",
          "data": {
            "text/plain": [
              "[0.3780137002468109, 0.8566799759864807]"
            ]
          },
          "metadata": {
            "tags": []
          },
          "execution_count": 71
        }
      ]
    },
    {
      "cell_type": "markdown",
      "metadata": {
        "id": "XGYOf0y-GWaL",
        "colab_type": "text"
      },
      "source": [
        "GRU"
      ]
    },
    {
      "cell_type": "code",
      "metadata": {
        "id": "_yJ-N8L0Hh5M",
        "colab_type": "code",
        "colab": {
          "base_uri": "https://localhost:8080/",
          "height": 54
        },
        "outputId": "c9ec4dc8-a848-434e-fe91-a0b66898346b"
      },
      "source": [
        "gru.evaluate(x_test, y_test)"
      ],
      "execution_count": 72,
      "outputs": [
        {
          "output_type": "stream",
          "text": [
            "782/782 [==============================] - 16s 21ms/step - loss: 0.4118 - acc: 0.8456\n"
          ],
          "name": "stdout"
        },
        {
          "output_type": "execute_result",
          "data": {
            "text/plain": [
              "[0.4117550253868103, 0.8455600142478943]"
            ]
          },
          "metadata": {
            "tags": []
          },
          "execution_count": 72
        }
      ]
    },
    {
      "cell_type": "markdown",
      "metadata": {
        "id": "0giGHLNgGWlb",
        "colab_type": "text"
      },
      "source": [
        "Simple RNN"
      ]
    },
    {
      "cell_type": "code",
      "metadata": {
        "id": "AOSV4PBPHqHQ",
        "colab_type": "code",
        "colab": {
          "base_uri": "https://localhost:8080/",
          "height": 54
        },
        "outputId": "e86da2de-3d17-424b-ae8a-f287f156ebf4"
      },
      "source": [
        "srnn.evaluate(x_test, y_test)"
      ],
      "execution_count": 73,
      "outputs": [
        {
          "output_type": "stream",
          "text": [
            "782/782 [==============================] - 11s 14ms/step - loss: 0.6009 - acc: 0.7550\n"
          ],
          "name": "stdout"
        },
        {
          "output_type": "execute_result",
          "data": {
            "text/plain": [
              "[0.600864827632904, 0.7550399899482727]"
            ]
          },
          "metadata": {
            "tags": []
          },
          "execution_count": 73
        }
      ]
    }
  ]
}