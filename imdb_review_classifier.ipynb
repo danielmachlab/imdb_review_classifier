{
  "nbformat": 4,
  "nbformat_minor": 0,
  "metadata": {
    "colab": {
      "name": "imdb_review_classifier",
      "provenance": [],
      "collapsed_sections": [],
      "include_colab_link": true
    },
    "kernelspec": {
      "name": "python3",
      "display_name": "Python 3"
    }
  },
  "cells": [
    {
      "cell_type": "markdown",
      "metadata": {
        "id": "view-in-github",
        "colab_type": "text"
      },
      "source": [
        "<a href=\"https://colab.research.google.com/github/danielmachlab/imdb_review_classifier/blob/development/imdb_review_classifier.ipynb\" target=\"_parent\"><img src=\"https://colab.research.google.com/assets/colab-badge.svg\" alt=\"Open In Colab\"/></a>"
      ]
    },
    {
      "cell_type": "markdown",
      "metadata": {
        "id": "HZ42Rd9r_-n8",
        "colab_type": "text"
      },
      "source": [
        "# IMDB Review Classifier"
      ]
    },
    {
      "cell_type": "markdown",
      "metadata": {
        "id": "eopC0l0CBL5p",
        "colab_type": "text"
      },
      "source": [
        "### Dev Steps\n",
        "1. Import Dataset from keras/tf\n",
        "2. View Sentences\n",
        "3. Translate encoded reviews \n",
        "4. Create Model\n",
        "5. Train Model\n",
        "6. Test Model\n",
        "7. Tweak Hyper Parameters\n"
      ]
    },
    {
      "cell_type": "code",
      "metadata": {
        "id": "rC7fQ9Ll-a8W",
        "colab_type": "code",
        "colab": {
          "base_uri": "https://localhost:8080/",
          "height": 35
        },
        "outputId": "0f1012db-a7f7-4e1d-b64b-566249aa3724"
      },
      "source": [
        "%tensorflow_version 1.x\n",
        "import tensorflow as tf\n",
        "from tensorflow import keras\n",
        "from keras.datasets import imdb"
      ],
      "execution_count": 26,
      "outputs": [
        {
          "output_type": "stream",
          "text": [
            "TensorFlow is already loaded. Please restart the runtime to change versions.\n"
          ],
          "name": "stdout"
        }
      ]
    },
    {
      "cell_type": "markdown",
      "metadata": {
        "id": "61JROyOYSq1y",
        "colab_type": "text"
      },
      "source": [
        "### View Data"
      ]
    },
    {
      "cell_type": "code",
      "metadata": {
        "id": "0YrlcNJeEECb",
        "colab_type": "code",
        "colab": {}
      },
      "source": [
        "num_words = 10000\n",
        "(x_train, y_train), (x_test, y_test) = imdb.load_data(num_words=num_words)"
      ],
      "execution_count": 0,
      "outputs": []
    },
    {
      "cell_type": "code",
      "metadata": {
        "id": "bMTn4KALFM6Z",
        "colab_type": "code",
        "outputId": "c211dee7-15a8-496a-e52d-408234102348",
        "colab": {
          "base_uri": "https://localhost:8080/",
          "height": 199
        }
      },
      "source": [
        "word_index = imdb.get_word_index()\n",
        "# shift all numbers by three to make room for placeholders\n",
        "word_index = {k: (v+3) for k, v in word_index.items()} \n",
        "\n",
        "# add placeholders to the word_index dictionary\n",
        "word_index.update({\"<PAD>\": 0, \"<START>\": 1, \"<UNK>\": 2, \"<UNUSED>\": 3})\n",
        "list(word_index.items())[-10:]"
      ],
      "execution_count": 28,
      "outputs": [
        {
          "output_type": "execute_result",
          "data": {
            "text/plain": [
              "[('hardboiled', 52008),\n",
              " (\"voorhees'\", 88586),\n",
              " ('35mm', 16818),\n",
              " (\"'l'\", 88587),\n",
              " ('paget', 18512),\n",
              " ('expands', 20600),\n",
              " ('<PAD>', 0),\n",
              " ('<START>', 1),\n",
              " ('<UNK>', 2),\n",
              " ('<UNUSED>', 3)]"
            ]
          },
          "metadata": {
            "tags": []
          },
          "execution_count": 28
        }
      ]
    },
    {
      "cell_type": "code",
      "metadata": {
        "id": "j2jZi7IlF_Nj",
        "colab_type": "code",
        "outputId": "3d5f7be0-f903-43ee-b13c-8f83ffddd932",
        "colab": {
          "base_uri": "https://localhost:8080/",
          "height": 74
        }
      },
      "source": [
        "# view the first review\n",
        "print('sentence', x_train[0])\n",
        "print('label', y_train[1])"
      ],
      "execution_count": 29,
      "outputs": [
        {
          "output_type": "stream",
          "text": [
            "sentence [1, 14, 22, 16, 43, 530, 973, 1622, 1385, 65, 458, 4468, 66, 3941, 4, 173, 36, 256, 5, 25, 100, 43, 838, 112, 50, 670, 2, 9, 35, 480, 284, 5, 150, 4, 172, 112, 167, 2, 336, 385, 39, 4, 172, 4536, 1111, 17, 546, 38, 13, 447, 4, 192, 50, 16, 6, 147, 2025, 19, 14, 22, 4, 1920, 4613, 469, 4, 22, 71, 87, 12, 16, 43, 530, 38, 76, 15, 13, 1247, 4, 22, 17, 515, 17, 12, 16, 626, 18, 2, 5, 62, 386, 12, 8, 316, 8, 106, 5, 4, 2223, 5244, 16, 480, 66, 3785, 33, 4, 130, 12, 16, 38, 619, 5, 25, 124, 51, 36, 135, 48, 25, 1415, 33, 6, 22, 12, 215, 28, 77, 52, 5, 14, 407, 16, 82, 2, 8, 4, 107, 117, 5952, 15, 256, 4, 2, 7, 3766, 5, 723, 36, 71, 43, 530, 476, 26, 400, 317, 46, 7, 4, 2, 1029, 13, 104, 88, 4, 381, 15, 297, 98, 32, 2071, 56, 26, 141, 6, 194, 7486, 18, 4, 226, 22, 21, 134, 476, 26, 480, 5, 144, 30, 5535, 18, 51, 36, 28, 224, 92, 25, 104, 4, 226, 65, 16, 38, 1334, 88, 12, 16, 283, 5, 16, 4472, 113, 103, 32, 15, 16, 5345, 19, 178, 32]\n",
            "label 0\n"
          ],
          "name": "stdout"
        }
      ]
    },
    {
      "cell_type": "markdown",
      "metadata": {
        "id": "U_E4Po7yUWWG",
        "colab_type": "text"
      },
      "source": [
        "### Translate Encoded Reviews"
      ]
    },
    {
      "cell_type": "code",
      "metadata": {
        "id": "HNhc4HfmUZeL",
        "colab_type": "code",
        "colab": {}
      },
      "source": [
        "flipped_word_index = dict([ (v,k) for (k, v) in word_index.items() ])"
      ],
      "execution_count": 0,
      "outputs": []
    },
    {
      "cell_type": "code",
      "metadata": {
        "id": "lYn7HrWuUolM",
        "colab_type": "code",
        "colab": {}
      },
      "source": [
        "def translate_review(review):\n",
        "  return \" \".join( [flipped_word_index.get(word, '?') for word in review] )"
      ],
      "execution_count": 0,
      "outputs": []
    },
    {
      "cell_type": "code",
      "metadata": {
        "id": "xcAIohcsV2bZ",
        "colab_type": "code",
        "outputId": "9bacae6e-9e02-46cd-b96e-a156420205b4",
        "colab": {
          "base_uri": "https://localhost:8080/",
          "height": 55
        }
      },
      "source": [
        "translate_review(x_train[0])"
      ],
      "execution_count": 32,
      "outputs": [
        {
          "output_type": "execute_result",
          "data": {
            "text/plain": [
              "\"<START> this film was just brilliant casting location scenery story direction everyone's really suited the part they played and you could just imagine being there robert <UNK> is an amazing actor and now the same being director <UNK> father came from the same scottish island as myself so i loved the fact there was a real connection with this film the witty remarks throughout the film were great it was just brilliant so much that i bought the film as soon as it was released for <UNK> and would recommend it to everyone to watch and the fly fishing was amazing really cried at the end it was so sad and you know what they say if you cry at a film it must have been good and this definitely was also <UNK> to the two little boy's that played the <UNK> of norman and paul they were just brilliant children are often left out of the <UNK> list i think because the stars that play them all grown up are such a big profile for the whole film but these children are amazing and should be praised for what they have done don't you think the whole story was so lovely because it was true and was someone's life after all that was shared with us all\""
            ]
          },
          "metadata": {
            "tags": []
          },
          "execution_count": 32
        }
      ]
    },
    {
      "cell_type": "code",
      "metadata": {
        "id": "UrEdX5pkFUrw",
        "colab_type": "code",
        "colab": {}
      },
      "source": [
        "x_train = keras.preprocessing.sequence.pad_sequences(x_train, value=word_index[\"<PAD>\"], padding=\"post\", maxlen=250)\n",
        "x_test = keras.preprocessing.sequence.pad_sequences(x_test, value=word_index[\"<PAD>\"], padding=\"post\", maxlen=250)"
      ],
      "execution_count": 0,
      "outputs": []
    },
    {
      "cell_type": "markdown",
      "metadata": {
        "id": "CxMEhbGsExcF",
        "colab_type": "text"
      },
      "source": [
        "# Write Models"
      ]
    },
    {
      "cell_type": "markdown",
      "metadata": {
        "id": "ZzzGHYqsE_JS",
        "colab_type": "text"
      },
      "source": [
        "Word embedding (?)"
      ]
    },
    {
      "cell_type": "code",
      "metadata": {
        "id": "X95xcRCFDxlm",
        "colab_type": "code",
        "outputId": "5f117fd2-3fbd-4f29-aeef-2f2673d97383",
        "colab": {
          "base_uri": "https://localhost:8080/",
          "height": 1000
        }
      },
      "source": [
        "emb = keras.Sequential()\n",
        "emb.add(keras.layers.Embedding(10000, 16))\n",
        "emb.add(keras.layers.GlobalAveragePooling1D())\n",
        "emb.add(keras.layers.Dense(16, activation=\"relu\"))\n",
        "emb.add(keras.layers.Dense(1, activation=\"sigmoid\"))\n",
        "\n",
        "emb.summary()\n",
        "emb.compile(optimizer='adam', loss='binary_crossentropy', metrics=['accuracy'])\n",
        "emb.fit(x_train, y_train, epochs=40, batch_size=512, validation_split=0.3)"
      ],
      "execution_count": 34,
      "outputs": [
        {
          "output_type": "stream",
          "text": [
            "Model: \"sequential_7\"\n",
            "_________________________________________________________________\n",
            "Layer (type)                 Output Shape              Param #   \n",
            "=================================================================\n",
            "embedding_5 (Embedding)      (None, None, 16)          160000    \n",
            "_________________________________________________________________\n",
            "global_average_pooling1d_2 ( (None, 16)                0         \n",
            "_________________________________________________________________\n",
            "dense_7 (Dense)              (None, 16)                272       \n",
            "_________________________________________________________________\n",
            "dense_8 (Dense)              (None, 1)                 17        \n",
            "=================================================================\n",
            "Total params: 160,289\n",
            "Trainable params: 160,289\n",
            "Non-trainable params: 0\n",
            "_________________________________________________________________\n",
            "Epoch 1/40\n",
            "35/35 [==============================] - 1s 21ms/step - loss: 0.6917 - accuracy: 0.6385 - val_loss: 0.6889 - val_accuracy: 0.7401\n",
            "Epoch 2/40\n",
            "35/35 [==============================] - 1s 18ms/step - loss: 0.6847 - accuracy: 0.7085 - val_loss: 0.6786 - val_accuracy: 0.7417\n",
            "Epoch 3/40\n",
            "35/35 [==============================] - 1s 18ms/step - loss: 0.6692 - accuracy: 0.7703 - val_loss: 0.6572 - val_accuracy: 0.7617\n",
            "Epoch 4/40\n",
            "35/35 [==============================] - 1s 18ms/step - loss: 0.6403 - accuracy: 0.7804 - val_loss: 0.6214 - val_accuracy: 0.7819\n",
            "Epoch 5/40\n",
            "35/35 [==============================] - 1s 18ms/step - loss: 0.5948 - accuracy: 0.8022 - val_loss: 0.5723 - val_accuracy: 0.8013\n",
            "Epoch 6/40\n",
            "35/35 [==============================] - 1s 18ms/step - loss: 0.5407 - accuracy: 0.8246 - val_loss: 0.5211 - val_accuracy: 0.8180\n",
            "Epoch 7/40\n",
            "35/35 [==============================] - 1s 18ms/step - loss: 0.4854 - accuracy: 0.8458 - val_loss: 0.4723 - val_accuracy: 0.8323\n",
            "Epoch 8/40\n",
            "35/35 [==============================] - 1s 18ms/step - loss: 0.4348 - accuracy: 0.8613 - val_loss: 0.4309 - val_accuracy: 0.8444\n",
            "Epoch 9/40\n",
            "35/35 [==============================] - 1s 19ms/step - loss: 0.3913 - accuracy: 0.8745 - val_loss: 0.3977 - val_accuracy: 0.8536\n",
            "Epoch 10/40\n",
            "35/35 [==============================] - 1s 18ms/step - loss: 0.3563 - accuracy: 0.8838 - val_loss: 0.3730 - val_accuracy: 0.8592\n",
            "Epoch 11/40\n",
            "35/35 [==============================] - 1s 18ms/step - loss: 0.3276 - accuracy: 0.8902 - val_loss: 0.3528 - val_accuracy: 0.8652\n",
            "Epoch 12/40\n",
            "35/35 [==============================] - 1s 20ms/step - loss: 0.3045 - accuracy: 0.8971 - val_loss: 0.3375 - val_accuracy: 0.8708\n",
            "Epoch 13/40\n",
            "35/35 [==============================] - 1s 19ms/step - loss: 0.2843 - accuracy: 0.9041 - val_loss: 0.3246 - val_accuracy: 0.8741\n",
            "Epoch 14/40\n",
            "35/35 [==============================] - 1s 19ms/step - loss: 0.2672 - accuracy: 0.9091 - val_loss: 0.3151 - val_accuracy: 0.8765\n",
            "Epoch 15/40\n",
            "35/35 [==============================] - 1s 19ms/step - loss: 0.2523 - accuracy: 0.9137 - val_loss: 0.3072 - val_accuracy: 0.8787\n",
            "Epoch 16/40\n",
            "35/35 [==============================] - 1s 18ms/step - loss: 0.2391 - accuracy: 0.9174 - val_loss: 0.3009 - val_accuracy: 0.8827\n",
            "Epoch 17/40\n",
            "35/35 [==============================] - 1s 19ms/step - loss: 0.2272 - accuracy: 0.9221 - val_loss: 0.2957 - val_accuracy: 0.8812\n",
            "Epoch 18/40\n",
            "35/35 [==============================] - 1s 19ms/step - loss: 0.2159 - accuracy: 0.9261 - val_loss: 0.2910 - val_accuracy: 0.8860\n",
            "Epoch 19/40\n",
            "35/35 [==============================] - 1s 19ms/step - loss: 0.2063 - accuracy: 0.9297 - val_loss: 0.2876 - val_accuracy: 0.8860\n",
            "Epoch 20/40\n",
            "35/35 [==============================] - 1s 18ms/step - loss: 0.1972 - accuracy: 0.9345 - val_loss: 0.2851 - val_accuracy: 0.8868\n",
            "Epoch 21/40\n",
            "35/35 [==============================] - 1s 19ms/step - loss: 0.1885 - accuracy: 0.9365 - val_loss: 0.2846 - val_accuracy: 0.8860\n",
            "Epoch 22/40\n",
            "35/35 [==============================] - 1s 19ms/step - loss: 0.1808 - accuracy: 0.9399 - val_loss: 0.2818 - val_accuracy: 0.8903\n",
            "Epoch 23/40\n",
            "35/35 [==============================] - 1s 18ms/step - loss: 0.1737 - accuracy: 0.9415 - val_loss: 0.2818 - val_accuracy: 0.8881\n",
            "Epoch 24/40\n",
            "35/35 [==============================] - 1s 19ms/step - loss: 0.1664 - accuracy: 0.9454 - val_loss: 0.2805 - val_accuracy: 0.8880\n",
            "Epoch 25/40\n",
            "35/35 [==============================] - 1s 19ms/step - loss: 0.1600 - accuracy: 0.9472 - val_loss: 0.2810 - val_accuracy: 0.8877\n",
            "Epoch 26/40\n",
            "35/35 [==============================] - 1s 19ms/step - loss: 0.1540 - accuracy: 0.9488 - val_loss: 0.2818 - val_accuracy: 0.8875\n",
            "Epoch 27/40\n",
            "35/35 [==============================] - 1s 19ms/step - loss: 0.1483 - accuracy: 0.9518 - val_loss: 0.2824 - val_accuracy: 0.8876\n",
            "Epoch 28/40\n",
            "35/35 [==============================] - 1s 19ms/step - loss: 0.1424 - accuracy: 0.9543 - val_loss: 0.2829 - val_accuracy: 0.8873\n",
            "Epoch 29/40\n",
            "35/35 [==============================] - 1s 19ms/step - loss: 0.1371 - accuracy: 0.9566 - val_loss: 0.2838 - val_accuracy: 0.8869\n",
            "Epoch 30/40\n",
            "35/35 [==============================] - 1s 19ms/step - loss: 0.1321 - accuracy: 0.9586 - val_loss: 0.2848 - val_accuracy: 0.8876\n",
            "Epoch 31/40\n",
            "35/35 [==============================] - 1s 19ms/step - loss: 0.1281 - accuracy: 0.9599 - val_loss: 0.2870 - val_accuracy: 0.8877\n",
            "Epoch 32/40\n",
            "35/35 [==============================] - 1s 19ms/step - loss: 0.1230 - accuracy: 0.9631 - val_loss: 0.2898 - val_accuracy: 0.8872\n",
            "Epoch 33/40\n",
            "35/35 [==============================] - 1s 20ms/step - loss: 0.1183 - accuracy: 0.9647 - val_loss: 0.2922 - val_accuracy: 0.8864\n",
            "Epoch 34/40\n",
            "35/35 [==============================] - 1s 19ms/step - loss: 0.1142 - accuracy: 0.9662 - val_loss: 0.2955 - val_accuracy: 0.8857\n",
            "Epoch 35/40\n",
            "35/35 [==============================] - 1s 19ms/step - loss: 0.1101 - accuracy: 0.9671 - val_loss: 0.2980 - val_accuracy: 0.8860\n",
            "Epoch 36/40\n",
            "35/35 [==============================] - 1s 19ms/step - loss: 0.1064 - accuracy: 0.9691 - val_loss: 0.3009 - val_accuracy: 0.8836\n",
            "Epoch 37/40\n",
            "35/35 [==============================] - 1s 19ms/step - loss: 0.1029 - accuracy: 0.9702 - val_loss: 0.3007 - val_accuracy: 0.8849\n",
            "Epoch 38/40\n",
            "35/35 [==============================] - 1s 18ms/step - loss: 0.0989 - accuracy: 0.9726 - val_loss: 0.3038 - val_accuracy: 0.8861\n",
            "Epoch 39/40\n",
            "35/35 [==============================] - 1s 19ms/step - loss: 0.0954 - accuracy: 0.9743 - val_loss: 0.3073 - val_accuracy: 0.8848\n",
            "Epoch 40/40\n",
            "35/35 [==============================] - 1s 19ms/step - loss: 0.0921 - accuracy: 0.9751 - val_loss: 0.3104 - val_accuracy: 0.8855\n"
          ],
          "name": "stdout"
        },
        {
          "output_type": "execute_result",
          "data": {
            "text/plain": [
              "<tensorflow.python.keras.callbacks.History at 0x7f00dea0a518>"
            ]
          },
          "metadata": {
            "tags": []
          },
          "execution_count": 34
        }
      ]
    },
    {
      "cell_type": "markdown",
      "metadata": {
        "id": "EjOr_3pMFDHT",
        "colab_type": "text"
      },
      "source": [
        "LSTM"
      ]
    },
    {
      "cell_type": "code",
      "metadata": {
        "id": "2PXL38FDFFQ_",
        "colab_type": "code",
        "colab": {
          "base_uri": "https://localhost:8080/",
          "height": 381
        },
        "outputId": "84663c4b-0d89-4fe2-be0e-cc6ed191626a"
      },
      "source": [
        "lstm = keras.Sequential()\n",
        "lstm.add(keras.layers.Embedding(num_words, 32))\n",
        "lstm.add(keras.layers.LSTM(32))\n",
        "lstm.add(keras.layers.Dense(1, activation='sigmoid'))\n",
        "lstm.compile(optimizer='rmsprop',loss='binary_crossentropy', metrics=['acc'])\n",
        "history = model.fit(x_train, y_train, epochs=10, batch_size=128, validation_split=0.2)\n"
      ],
      "execution_count": 35,
      "outputs": [
        {
          "output_type": "stream",
          "text": [
            "Epoch 1/10\n",
            "157/157 [==============================] - 26s 168ms/step - loss: 0.6850 - acc: 0.5339 - val_loss: 0.6600 - val_acc: 0.5620\n",
            "Epoch 2/10\n",
            "157/157 [==============================] - 26s 167ms/step - loss: 0.6365 - acc: 0.6549 - val_loss: 0.5300 - val_acc: 0.7712\n",
            "Epoch 3/10\n",
            "157/157 [==============================] - 26s 166ms/step - loss: 0.5356 - acc: 0.7538 - val_loss: 0.4885 - val_acc: 0.8144\n",
            "Epoch 4/10\n",
            "157/157 [==============================] - 26s 167ms/step - loss: 0.4963 - acc: 0.8015 - val_loss: 0.4486 - val_acc: 0.8250\n",
            "Epoch 5/10\n",
            "157/157 [==============================] - 26s 165ms/step - loss: 0.4198 - acc: 0.8427 - val_loss: 0.4462 - val_acc: 0.8346\n",
            "Epoch 6/10\n",
            "157/157 [==============================] - 28s 175ms/step - loss: 0.4090 - acc: 0.8497 - val_loss: 0.4165 - val_acc: 0.8414\n",
            "Epoch 7/10\n",
            "157/157 [==============================] - 29s 185ms/step - loss: 0.3738 - acc: 0.8680 - val_loss: 0.4165 - val_acc: 0.8400\n",
            "Epoch 8/10\n",
            "157/157 [==============================] - 27s 175ms/step - loss: 0.3590 - acc: 0.8773 - val_loss: 0.3961 - val_acc: 0.8554\n",
            "Epoch 9/10\n",
            "157/157 [==============================] - 27s 174ms/step - loss: 0.3444 - acc: 0.8830 - val_loss: 0.3981 - val_acc: 0.8516\n",
            "Epoch 10/10\n",
            "157/157 [==============================] - 28s 176ms/step - loss: 0.3289 - acc: 0.8907 - val_loss: 0.3957 - val_acc: 0.8572\n"
          ],
          "name": "stdout"
        }
      ]
    },
    {
      "cell_type": "markdown",
      "metadata": {
        "id": "qzmKPfWmFt4d",
        "colab_type": "text"
      },
      "source": [
        "GRU"
      ]
    },
    {
      "cell_type": "code",
      "metadata": {
        "id": "r1ga5XEZGKO_",
        "colab_type": "code",
        "colab": {
          "base_uri": "https://localhost:8080/",
          "height": 381
        },
        "outputId": "e5ce0fce-c3f3-4ee6-d754-81cf2ad13e77"
      },
      "source": [
        "gru = keras.Sequential()\n",
        "gru.add(keras.layers.Embedding(num_words, 32))\n",
        "gru.add(keras.layers.GRU(32))\n",
        "gru.add(keras.layers.Dense(1, activation='sigmoid'))\n",
        "gru.compile(optimizer='rmsprop',loss='binary_crossentropy', metrics=['acc'])\n",
        "history = model.fit(x_train, y_train, epochs=10, batch_size=128, validation_split=0.2)"
      ],
      "execution_count": 36,
      "outputs": [
        {
          "output_type": "stream",
          "text": [
            "Epoch 1/10\n",
            "157/157 [==============================] - 27s 171ms/step - loss: 0.3181 - acc: 0.8978 - val_loss: 0.3934 - val_acc: 0.8586\n",
            "Epoch 2/10\n",
            "157/157 [==============================] - 27s 172ms/step - loss: 0.3007 - acc: 0.9039 - val_loss: 0.3857 - val_acc: 0.8606\n",
            "Epoch 3/10\n",
            "157/157 [==============================] - 26s 166ms/step - loss: 0.2866 - acc: 0.9092 - val_loss: 0.6376 - val_acc: 0.7832\n",
            "Epoch 4/10\n",
            "157/157 [==============================] - 26s 166ms/step - loss: 0.2835 - acc: 0.9111 - val_loss: 0.4319 - val_acc: 0.8600\n",
            "Epoch 5/10\n",
            "157/157 [==============================] - 27s 170ms/step - loss: 0.3544 - acc: 0.8865 - val_loss: 0.3864 - val_acc: 0.8646\n",
            "Epoch 6/10\n",
            "157/157 [==============================] - 27s 170ms/step - loss: 0.2657 - acc: 0.9186 - val_loss: 0.4001 - val_acc: 0.8592\n",
            "Epoch 7/10\n",
            "157/157 [==============================] - 27s 169ms/step - loss: 0.2716 - acc: 0.9158 - val_loss: 0.4702 - val_acc: 0.8474\n",
            "Epoch 8/10\n",
            "157/157 [==============================] - 26s 169ms/step - loss: 0.2428 - acc: 0.9281 - val_loss: 0.4001 - val_acc: 0.8588\n",
            "Epoch 9/10\n",
            "157/157 [==============================] - 27s 173ms/step - loss: 0.2444 - acc: 0.9270 - val_loss: 0.4004 - val_acc: 0.8580\n",
            "Epoch 10/10\n",
            "157/157 [==============================] - 27s 172ms/step - loss: 0.2354 - acc: 0.9269 - val_loss: 0.3959 - val_acc: 0.8582\n"
          ],
          "name": "stdout"
        }
      ]
    },
    {
      "cell_type": "markdown",
      "metadata": {
        "id": "6jLdoZYMGOYm",
        "colab_type": "text"
      },
      "source": [
        "Simple RNN"
      ]
    },
    {
      "cell_type": "code",
      "metadata": {
        "id": "mF-BRx8kGQCb",
        "colab_type": "code",
        "colab": {
          "base_uri": "https://localhost:8080/",
          "height": 381
        },
        "outputId": "a8e0f5c3-0e65-4db8-8233-4a976b2b80df"
      },
      "source": [
        "srnn = keras.Sequential()\n",
        "srnn.add(keras.layers.Embedding(num_words, 32))\n",
        "srnn.add(keras.layers.SimpleRNN(32))\n",
        "srnn.add(keras.layers.Dense(1, activation='sigmoid'))\n",
        "srnn.compile(optimizer='rmsprop',loss='binary_crossentropy', metrics=['acc'])\n",
        "history = model.fit(x_train, y_train, epochs=10, batch_size=128, validation_split=0.2)"
      ],
      "execution_count": 45,
      "outputs": [
        {
          "output_type": "stream",
          "text": [
            "Epoch 1/10\n",
            "157/157 [==============================] - 12s 77ms/step - loss: 0.1856 - acc: 0.9255 - val_loss: 0.9398 - val_acc: 0.5994\n",
            "Epoch 2/10\n",
            "157/157 [==============================] - 12s 78ms/step - loss: 0.1768 - acc: 0.9299 - val_loss: 0.8908 - val_acc: 0.6284\n",
            "Epoch 3/10\n",
            "157/157 [==============================] - 12s 78ms/step - loss: 0.1891 - acc: 0.9232 - val_loss: 0.9724 - val_acc: 0.5958\n",
            "Epoch 4/10\n",
            "157/157 [==============================] - 12s 78ms/step - loss: 0.1612 - acc: 0.9356 - val_loss: 1.1960 - val_acc: 0.5382\n",
            "Epoch 5/10\n",
            "157/157 [==============================] - 12s 77ms/step - loss: 0.1611 - acc: 0.9351 - val_loss: 1.0697 - val_acc: 0.5840\n",
            "Epoch 6/10\n",
            "157/157 [==============================] - 12s 77ms/step - loss: 0.1261 - acc: 0.9539 - val_loss: 1.0480 - val_acc: 0.6134\n",
            "Epoch 7/10\n",
            "157/157 [==============================] - 12s 75ms/step - loss: 0.1562 - acc: 0.9381 - val_loss: 1.0684 - val_acc: 0.6064\n",
            "Epoch 8/10\n",
            "157/157 [==============================] - 12s 75ms/step - loss: 0.1326 - acc: 0.9493 - val_loss: 1.1263 - val_acc: 0.5864\n",
            "Epoch 9/10\n",
            "157/157 [==============================] - 12s 73ms/step - loss: 0.1151 - acc: 0.9577 - val_loss: 1.0731 - val_acc: 0.6092\n",
            "Epoch 10/10\n",
            "157/157 [==============================] - 12s 74ms/step - loss: 0.1050 - acc: 0.9607 - val_loss: 1.1088 - val_acc: 0.6030\n"
          ],
          "name": "stdout"
        }
      ]
    },
    {
      "cell_type": "markdown",
      "metadata": {
        "id": "vuPhSTdAE6XT",
        "colab_type": "text"
      },
      "source": [
        "# Evaluate Models"
      ]
    },
    {
      "cell_type": "markdown",
      "metadata": {
        "id": "SzlSBMN5GT5h",
        "colab_type": "text"
      },
      "source": [
        "Word embedding (?)"
      ]
    },
    {
      "cell_type": "code",
      "metadata": {
        "id": "E8lUKT7mHfuI",
        "colab_type": "code",
        "outputId": "205eeb85-5542-4ae6-8772-042b9daa73da",
        "colab": {
          "base_uri": "https://localhost:8080/",
          "height": 54
        }
      },
      "source": [
        "emb.evaluate(x_test, y_test)"
      ],
      "execution_count": 38,
      "outputs": [
        {
          "output_type": "stream",
          "text": [
            "782/782 [==============================] - 1s 1ms/step - loss: 0.3435 - accuracy: 0.8689\n"
          ],
          "name": "stdout"
        },
        {
          "output_type": "execute_result",
          "data": {
            "text/plain": [
              "[0.34349995851516724, 0.8688799738883972]"
            ]
          },
          "metadata": {
            "tags": []
          },
          "execution_count": 38
        }
      ]
    },
    {
      "cell_type": "markdown",
      "metadata": {
        "id": "k_c7SD79GWPt",
        "colab_type": "text"
      },
      "source": [
        "LSTM"
      ]
    },
    {
      "cell_type": "code",
      "metadata": {
        "id": "VCQwF0ZeHewd",
        "colab_type": "code",
        "colab": {
          "base_uri": "https://localhost:8080/",
          "height": 54
        },
        "outputId": "59fdac34-0989-4b60-eaf1-a080b0beb6f0"
      },
      "source": [
        "lstm.evaluate(x_test, y_test)"
      ],
      "execution_count": 39,
      "outputs": [
        {
          "output_type": "stream",
          "text": [
            "782/782 [==============================] - 17s 22ms/step - loss: 0.6932 - acc: 0.4966\n"
          ],
          "name": "stdout"
        },
        {
          "output_type": "execute_result",
          "data": {
            "text/plain": [
              "[0.6932249069213867, 0.4965600073337555]"
            ]
          },
          "metadata": {
            "tags": []
          },
          "execution_count": 39
        }
      ]
    },
    {
      "cell_type": "markdown",
      "metadata": {
        "id": "XGYOf0y-GWaL",
        "colab_type": "text"
      },
      "source": [
        "GRU"
      ]
    },
    {
      "cell_type": "code",
      "metadata": {
        "id": "_yJ-N8L0Hh5M",
        "colab_type": "code",
        "colab": {
          "base_uri": "https://localhost:8080/",
          "height": 54
        },
        "outputId": "b1aa9356-87d1-473b-ed3c-34b293157164"
      },
      "source": [
        "gru.evaluate(x_test, y_test)"
      ],
      "execution_count": 40,
      "outputs": [
        {
          "output_type": "stream",
          "text": [
            "782/782 [==============================] - 15s 19ms/step - loss: 0.6934 - acc: 0.4970\n"
          ],
          "name": "stdout"
        },
        {
          "output_type": "execute_result",
          "data": {
            "text/plain": [
              "[0.6933724880218506, 0.4970400035381317]"
            ]
          },
          "metadata": {
            "tags": []
          },
          "execution_count": 40
        }
      ]
    },
    {
      "cell_type": "markdown",
      "metadata": {
        "id": "0giGHLNgGWlb",
        "colab_type": "text"
      },
      "source": [
        "Simple RNN"
      ]
    },
    {
      "cell_type": "code",
      "metadata": {
        "id": "AOSV4PBPHqHQ",
        "colab_type": "code",
        "colab": {
          "base_uri": "https://localhost:8080/",
          "height": 54
        },
        "outputId": "c24c4474-bbe0-4f86-933e-43be21df97ff"
      },
      "source": [
        "srnn.evaluate(x_test, y_test)"
      ],
      "execution_count": 46,
      "outputs": [
        {
          "output_type": "stream",
          "text": [
            "782/782 [==============================] - 10s 13ms/step - loss: 0.6977 - acc: 0.5006\n"
          ],
          "name": "stdout"
        },
        {
          "output_type": "execute_result",
          "data": {
            "text/plain": [
              "[0.6976779103279114, 0.5005999803543091]"
            ]
          },
          "metadata": {
            "tags": []
          },
          "execution_count": 46
        }
      ]
    }
  ]
}